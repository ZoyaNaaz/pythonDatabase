{
 "cells": [
  {
   "cell_type": "code",
   "execution_count": 1,
   "id": "13a297db-5d54-4e2d-a39c-777a320bd03a",
   "metadata": {},
   "outputs": [
    {
     "name": "stdout",
     "output_type": "stream",
     "text": [
      "Requirement already satisfied: pymongo in c:\\users\\zoya naaz\\appdata\\local\\programs\\python\\python311\\lib\\site-packages (4.10.1)\n",
      "Requirement already satisfied: dnspython<3.0.0,>=1.16.0 in c:\\users\\zoya naaz\\appdata\\local\\programs\\python\\python311\\lib\\site-packages (from pymongo) (2.7.0)\n"
     ]
    },
    {
     "name": "stderr",
     "output_type": "stream",
     "text": [
      "\n",
      "[notice] A new release of pip is available: 24.0 -> 24.3.1\n",
      "[notice] To update, run: python.exe -m pip install --upgrade pip\n"
     ]
    }
   ],
   "source": [
    "!pip install pymongo"
   ]
  },
  {
   "cell_type": "code",
   "execution_count": 5,
   "id": "8ce794db-7c5d-43f6-b8eb-1a3b330ec3dc",
   "metadata": {},
   "outputs": [
    {
     "name": "stdout",
     "output_type": "stream",
     "text": [
      "MongoClient imported successfully!\n"
     ]
    }
   ],
   "source": [
    "from pymongo import MongoClient\n",
    "print(\"MongoClient imported successfully!\")"
   ]
  },
  {
   "cell_type": "code",
   "execution_count": 6,
   "id": "c4c9d309-30b4-40ed-8c6c-40ad95bf0cdc",
   "metadata": {},
   "outputs": [],
   "source": [
    "# Example connection\n",
    "client = MongoClient(\"mongodb://localhost:27017/\")\n"
   ]
  },
  {
   "cell_type": "code",
   "execution_count": 7,
   "id": "6ba246d0-c096-4a36-8406-5bbd1244b784",
   "metadata": {},
   "outputs": [],
   "source": [
    "db = client['test']"
   ]
  },
  {
   "cell_type": "code",
   "execution_count": 17,
   "id": "89a5e464-f9dd-40a0-ba57-0c605bb52af2",
   "metadata": {},
   "outputs": [],
   "source": [
    "coll_create = db['my_record']"
   ]
  },
  {
   "cell_type": "code",
   "execution_count": 9,
   "id": "01c6b95c-2dc1-45ce-a6a3-661ee64d4f31",
   "metadata": {},
   "outputs": [],
   "source": [
    "data = {\n",
    "    'name' : 'zoya',\n",
    "    'class' : 'data science',\n",
    "    'city' : 'meerut'\n",
    "}"
   ]
  },
  {
   "cell_type": "code",
   "execution_count": 10,
   "id": "1d88b6fb-5b35-41ab-96f9-164e9c8416ab",
   "metadata": {},
   "outputs": [
    {
     "data": {
      "text/plain": [
       "InsertOneResult(ObjectId('676952b5a62c18413234922a'), acknowledged=True)"
      ]
     },
     "execution_count": 10,
     "metadata": {},
     "output_type": "execute_result"
    }
   ],
   "source": [
    "coll_create.insert_one(data)"
   ]
  },
  {
   "cell_type": "code",
   "execution_count": 9,
   "id": "a07ce002-7bbb-4ca9-bb74-7f1849ca896f",
   "metadata": {},
   "outputs": [],
   "source": [
    "data1 = {\n",
    "    'mail_id' : 'zoya@gmail.com',\n",
    "    'phone_no' : 1234567890\n",
    "}"
   ]
  },
  {
   "cell_type": "code",
   "execution_count": 10,
   "id": "9536614b-ec84-4651-84df-06c87c8b3980",
   "metadata": {},
   "outputs": [
    {
     "data": {
      "text/plain": [
       "InsertOneResult(ObjectId('67690f57fbffd7aec644f493'), acknowledged=True)"
      ]
     },
     "execution_count": 10,
     "metadata": {},
     "output_type": "execute_result"
    }
   ],
   "source": [
    "coll_create.insert_one(data1)"
   ]
  },
  {
   "cell_type": "code",
   "execution_count": 11,
   "id": "23063993-7fbc-470a-90ab-d13fd5d55bd0",
   "metadata": {},
   "outputs": [],
   "source": [
    "data2 = {\n",
    "    'list_course' : ['web dev', 'data science', 'dsa'],\n",
    "    'mentor' : ['hitesh', 'sudhanshu', 'saurabh']\n",
    "}"
   ]
  },
  {
   "cell_type": "code",
   "execution_count": 12,
   "id": "cb62ba71-afa2-4f45-8db3-3e3f08768593",
   "metadata": {},
   "outputs": [
    {
     "data": {
      "text/plain": [
       "InsertOneResult(ObjectId('6769103dfbffd7aec644f494'), acknowledged=True)"
      ]
     },
     "execution_count": 12,
     "metadata": {},
     "output_type": "execute_result"
    }
   ],
   "source": [
    "coll_create.insert_one(data2)"
   ]
  },
  {
   "cell_type": "code",
   "execution_count": 18,
   "id": "6aacf0db-1dda-4bc0-8a46-e2e4bbef4655",
   "metadata": {},
   "outputs": [],
   "source": [
    "data3 = [\n",
    "    {'name' : 'Amy', 'address' : 'Apple st 62'},\n",
    "    {'name' : 'Hunnah', 'address' : 'Mountain 21'},\n",
    "    {'name' : 'Micheal', 'address' : 'Valley 62'},\n",
    "    {'name' : 'Sandy', 'address' : 'Green Grass 1'},\n",
    "    {'name' : 'Betty', 'address' : 'Ocean blvd 62'},\n",
    "    {'name' : 'Richard', 'address' : 'Sky st 331'},\n",
    "    {'name' : 'Susan', 'address' : 'One Way 98'},\n",
    "    {'name' : 'Ben', 'address' : 'Sideway 879'}\n",
    "]"
   ]
  },
  {
   "cell_type": "code",
   "execution_count": 17,
   "id": "e4ed13d9-a05a-4372-a90b-71e368ff8622",
   "metadata": {},
   "outputs": [
    {
     "data": {
      "text/plain": [
       "InsertManyResult([ObjectId('67691327fbffd7aec644f495'), ObjectId('67691327fbffd7aec644f496'), ObjectId('67691327fbffd7aec644f497'), ObjectId('67691327fbffd7aec644f498'), ObjectId('67691327fbffd7aec644f499'), ObjectId('67691327fbffd7aec644f49a'), ObjectId('67691327fbffd7aec644f49b'), ObjectId('67691327fbffd7aec644f49c')], acknowledged=True)"
      ]
     },
     "execution_count": 17,
     "metadata": {},
     "output_type": "execute_result"
    }
   ],
   "source": [
    "coll_create.insert_many(data3)"
   ]
  },
  {
   "cell_type": "code",
   "execution_count": 19,
   "id": "ef7c4d5a-bbbb-407b-801c-832381e592bd",
   "metadata": {},
   "outputs": [],
   "source": [
    "data4 = {\n",
    "    'name' : 'notebook',\n",
    "    'qty' : 50,\n",
    "    'rating' : [{'score' : 8}, {'score' : 9}],\n",
    "    'size' : {'height' : 11, 'width' : 8.5, 'unit' : 'in'},\n",
    "    'status' : 'A',\n",
    "    'tags' : ['college-ruled', 'perforated']\n",
    "}"
   ]
  },
  {
   "cell_type": "code",
   "execution_count": 20,
   "id": "f7e750e5-2ff6-4c9d-a78c-d0db2c9b30a1",
   "metadata": {},
   "outputs": [
    {
     "data": {
      "text/plain": [
       "InsertOneResult(ObjectId('676914b6fbffd7aec644f49d'), acknowledged=True)"
      ]
     },
     "execution_count": 20,
     "metadata": {},
     "output_type": "execute_result"
    }
   ],
   "source": [
    "coll_create.insert_one(data4)"
   ]
  },
  {
   "cell_type": "code",
   "execution_count": 66,
   "id": "a1140ab5-4003-46ee-a59c-2b881b8368d2",
   "metadata": {},
   "outputs": [],
   "source": [
    "list_of_records = [\n",
    "    {'companyName': 'iNeuron',\n",
    "     'product': 'Affordable AI',\n",
    "     'courseOffered': 'Machine Learning with Deployment'},\n",
    "    \n",
    "    {'companyName': 'iNeuron',\n",
    "     'product': 'Affordable AI',\n",
    "     'courseOffered': 'Deep Learning for NLP and Computer vision'},\n",
    "    \n",
    "    {'companyName': 'iNeuron',\n",
    "     'product': 'Master Program',\n",
    "     'courseOffered': 'Data Science Masters Program'}\n",
    "]"
   ]
  },
  {
   "cell_type": "code",
   "execution_count": 67,
   "id": "b533209d-4f7c-469a-a89c-0f9661dccd71",
   "metadata": {},
   "outputs": [
    {
     "data": {
      "text/plain": [
       "InsertManyResult([ObjectId('67695b1aa62c18413234922e'), ObjectId('67695b1aa62c18413234922f'), ObjectId('67695b1aa62c184132349230')], acknowledged=True)"
      ]
     },
     "execution_count": 67,
     "metadata": {},
     "output_type": "execute_result"
    }
   ],
   "source": [
    "coll_create.insert_many(list_of_records)"
   ]
  },
  {
   "cell_type": "code",
   "execution_count": 68,
   "id": "57584bf1-cd73-4117-a4da-40a999aa6f14",
   "metadata": {},
   "outputs": [],
   "source": [
    "# records inside database"
   ]
  },
  {
   "cell_type": "code",
   "execution_count": 69,
   "id": "1b6ebf15-9fbe-4bf9-a36c-93f2d879e054",
   "metadata": {},
   "outputs": [
    {
     "name": "stdout",
     "output_type": "stream",
     "text": [
      "{'_id': ObjectId('67690f57fbffd7aec644f493'), 'mail_id': 'zoya@gmail.com', 'phone_no': 1234567890}\n",
      "{'_id': ObjectId('6769103dfbffd7aec644f494'), 'list_course': ['web dev', 'data science', 'dsa'], 'mentor': ['hitesh', 'sudhanshu', 'saurabh']}\n",
      "{'_id': ObjectId('67691327fbffd7aec644f495'), 'name': 'Amy', 'address': 'Apple st 62'}\n",
      "{'_id': ObjectId('67691327fbffd7aec644f496'), 'name': 'Hunnah', 'address': 'Mountain 21'}\n",
      "{'_id': ObjectId('67691327fbffd7aec644f497'), 'name': 'Micheal', 'address': 'Valley 62'}\n",
      "{'_id': ObjectId('67691327fbffd7aec644f498'), 'name': 'Sandy', 'address': 'Green Grass 1'}\n",
      "{'_id': ObjectId('67691327fbffd7aec644f499'), 'name': 'Betty', 'address': 'Ocean blvd 62'}\n",
      "{'_id': ObjectId('67691327fbffd7aec644f49a'), 'name': 'Richard', 'address': 'Sky st 331'}\n",
      "{'_id': ObjectId('67691327fbffd7aec644f49b'), 'name': 'Susan', 'address': 'One Way 98'}\n",
      "{'_id': ObjectId('67691327fbffd7aec644f49c'), 'name': 'Ben', 'address': 'Sideway 879'}\n",
      "{'_id': ObjectId('676914b6fbffd7aec644f49d'), 'name': 'notebook', 'qty': 50, 'rating': [{'score': 8}, {'score': 9}], 'size': {'height': 11, 'width': 8.5, 'unit': 'in'}, 'status': 'A', 'tags': ['college-ruled', 'perforated']}\n",
      "{'_id': ObjectId('676952b5a62c18413234922a'), 'name': 'zoya', 'class': 'data science', 'city': 'meerut'}\n",
      "{'_id': '3', 'companyName': 'iNeuron', 'Faculty': 'XYZ'}\n",
      "{'_id': '4', 'companyName': 'iNeuron', 'Faculty': 'ABC'}\n",
      "{'_id': '5', 'companyName': 'iNeuron', 'Faculty': 'PQR'}\n",
      "{'_id': ObjectId('67695b1aa62c18413234922e'), 'companyName': 'iNeuron', 'product': 'Affordable AI', 'courseOffered': 'Machine Learning with Deployment'}\n",
      "{'_id': ObjectId('67695b1aa62c18413234922f'), 'companyName': 'iNeuron', 'product': 'Affordable AI', 'courseOffered': 'Deep Learning for NLP and Computer vision'}\n",
      "{'_id': ObjectId('67695b1aa62c184132349230'), 'companyName': 'iNeuron', 'product': 'Master Program', 'courseOffered': 'Data Science Masters Program'}\n"
     ]
    }
   ],
   "source": [
    "for i in coll_create.find():\n",
    "    print(i)"
   ]
  },
  {
   "cell_type": "code",
   "execution_count": 63,
   "id": "2661cf5a-1652-4c00-aceb-3bde3c29edd6",
   "metadata": {},
   "outputs": [],
   "source": [
    "random_data = [\n",
    "    {'_id': '3', 'companyName': 'iNeuron', 'Faculty': 'XYZ'},\n",
    "    {'_id': '4', 'companyName': 'iNeuron', 'Faculty': 'ABC'},\n",
    "    {'_id': '5', 'companyName': 'iNeuron', 'Faculty': 'PQR'},\n",
    "]"
   ]
  },
  {
   "cell_type": "code",
   "execution_count": 64,
   "id": "0811fe09-a593-491b-a83a-ef337f581d4d",
   "metadata": {},
   "outputs": [
    {
     "data": {
      "text/plain": [
       "InsertManyResult(['3', '4', '5'], acknowledged=True)"
      ]
     },
     "execution_count": 64,
     "metadata": {},
     "output_type": "execute_result"
    }
   ],
   "source": [
    "coll_create.insert_many(random_data)"
   ]
  },
  {
   "cell_type": "code",
   "execution_count": 65,
   "id": "126acdc9-ee67-447d-8356-2a49e81b3e0e",
   "metadata": {},
   "outputs": [
    {
     "name": "stdout",
     "output_type": "stream",
     "text": [
      "{'_id': ObjectId('67690f57fbffd7aec644f493'), 'mail_id': 'zoya@gmail.com', 'phone_no': 1234567890}\n",
      "{'_id': ObjectId('6769103dfbffd7aec644f494'), 'list_course': ['web dev', 'data science', 'dsa'], 'mentor': ['hitesh', 'sudhanshu', 'saurabh']}\n",
      "{'_id': ObjectId('67691327fbffd7aec644f495'), 'name': 'Amy', 'address': 'Apple st 62'}\n",
      "{'_id': ObjectId('67691327fbffd7aec644f496'), 'name': 'Hunnah', 'address': 'Mountain 21'}\n",
      "{'_id': ObjectId('67691327fbffd7aec644f497'), 'name': 'Micheal', 'address': 'Valley 62'}\n",
      "{'_id': ObjectId('67691327fbffd7aec644f498'), 'name': 'Sandy', 'address': 'Green Grass 1'}\n",
      "{'_id': ObjectId('67691327fbffd7aec644f499'), 'name': 'Betty', 'address': 'Ocean blvd 62'}\n",
      "{'_id': ObjectId('67691327fbffd7aec644f49a'), 'name': 'Richard', 'address': 'Sky st 331'}\n",
      "{'_id': ObjectId('67691327fbffd7aec644f49b'), 'name': 'Susan', 'address': 'One Way 98'}\n",
      "{'_id': ObjectId('67691327fbffd7aec644f49c'), 'name': 'Ben', 'address': 'Sideway 879'}\n",
      "{'_id': ObjectId('676914b6fbffd7aec644f49d'), 'name': 'notebook', 'qty': 50, 'rating': [{'score': 8}, {'score': 9}], 'size': {'height': 11, 'width': 8.5, 'unit': 'in'}, 'status': 'A', 'tags': ['college-ruled', 'perforated']}\n",
      "{'_id': ObjectId('676952b5a62c18413234922a'), 'name': 'zoya', 'class': 'data science', 'city': 'meerut'}\n",
      "{'_id': '3', 'companyName': 'iNeuron', 'Faculty': 'XYZ'}\n",
      "{'_id': '4', 'companyName': 'iNeuron', 'Faculty': 'ABC'}\n",
      "{'_id': '5', 'companyName': 'iNeuron', 'Faculty': 'PQR'}\n"
     ]
    }
   ],
   "source": [
    "for i in coll_create.find():\n",
    "    print(i)"
   ]
  },
  {
   "cell_type": "code",
   "execution_count": 21,
   "id": "44775afb-1f64-4678-9b43-42a94afd9bb1",
   "metadata": {},
   "outputs": [
    {
     "data": {
      "text/plain": [
       "{'_id': ObjectId('67690e04fbffd7aec644f492'),\n",
       " 'name': 'zoya',\n",
       " 'class': 'data science',\n",
       " 'city': 'meerut'}"
      ]
     },
     "execution_count": 21,
     "metadata": {},
     "output_type": "execute_result"
    }
   ],
   "source": [
    "coll_create.find_one()"
   ]
  },
  {
   "cell_type": "code",
   "execution_count": 24,
   "id": "dfc8f554-1eb4-42fd-89d2-dc8b8e840ebe",
   "metadata": {},
   "outputs": [
    {
     "name": "stdout",
     "output_type": "stream",
     "text": [
      "{'_id': ObjectId('676952caa62c18413234922b'), 'companyName': 'iNeuron', 'product': 'Affordable AI', 'courseOffered': 'Machine Learning with Deployment'}\n",
      "{'_id': ObjectId('676952caa62c18413234922c'), 'companyName': 'iNeuron', 'product': 'Affordable AI', 'courseOffered': 'Deep Learning for NLP and Computer vision'}\n",
      "{'_id': ObjectId('676952caa62c18413234922d'), 'companyName': 'iNeuron', 'product': 'Master Program', 'courseOffered': 'Data Science Masters Program'}\n",
      "{'_id': '3', 'companyName': 'iNeuron', 'Faculty': 'XYZ'}\n",
      "{'_id': '4', 'companyName': 'iNeuron', 'Faculty': 'ABC'}\n",
      "{'_id': '5', 'companyName': 'iNeuron', 'Faculty': 'PQR'}\n"
     ]
    }
   ],
   "source": [
    "for i in coll_create.find({'companyName' : 'iNeuron'}):\n",
    "    print(i)"
   ]
  },
  {
   "cell_type": "code",
   "execution_count": 28,
   "id": "7f878b4b-e718-4721-bda5-a1289e79d7e9",
   "metadata": {},
   "outputs": [],
   "source": [
    "# query based on condition - gte = greater than or equal to"
   ]
  },
  {
   "cell_type": "code",
   "execution_count": 32,
   "id": "fa04f3f1-fd4a-4e8e-a63e-51d389bfa05a",
   "metadata": {},
   "outputs": [
    {
     "name": "stdout",
     "output_type": "stream",
     "text": [
      "{'_id': '4', 'companyName': 'iNeuron', 'Faculty': 'ABC'}\n",
      "{'_id': '5', 'companyName': 'iNeuron', 'Faculty': 'PQR'}\n"
     ]
    }
   ],
   "source": [
    "for i in coll_create.find({'_id' : {'$gte' : '4'}}):\n",
    "    print(i)"
   ]
  },
  {
   "cell_type": "code",
   "execution_count": 33,
   "id": "dd47372c-3ed9-40bc-99ac-d5c148f5429c",
   "metadata": {},
   "outputs": [],
   "source": [
    "# update data"
   ]
  },
  {
   "cell_type": "code",
   "execution_count": 70,
   "id": "4dcc815f-9576-4154-824f-7c149a9c2e87",
   "metadata": {},
   "outputs": [
    {
     "data": {
      "text/plain": [
       "UpdateResult({'n': 6, 'nModified': 6, 'ok': 1.0, 'updatedExisting': True}, acknowledged=True)"
      ]
     },
     "execution_count": 70,
     "metadata": {},
     "output_type": "execute_result"
    }
   ],
   "source": [
    "coll_create.update_many({'companyName': 'iNeuron'}, {'$set' : {'companyName' : 'pwSkill'}})"
   ]
  },
  {
   "cell_type": "code",
   "execution_count": 54,
   "id": "cc412da4-eacf-471a-b76a-906d6fecd087",
   "metadata": {},
   "outputs": [
    {
     "name": "stdout",
     "output_type": "stream",
     "text": [
      "{'_id': ObjectId('67690e04fbffd7aec644f492'), 'name': 'zoya', 'class': 'data science', 'city': 'meerut'}\n",
      "{'_id': ObjectId('67690f57fbffd7aec644f493'), 'mail_id': 'zoya@gmail.com', 'phone_no': 1234567890}\n",
      "{'_id': ObjectId('6769103dfbffd7aec644f494'), 'list_course': ['web dev', 'data science', 'dsa'], 'mentor': ['hitesh', 'sudhanshu', 'saurabh']}\n",
      "{'_id': ObjectId('67691327fbffd7aec644f495'), 'name': 'Amy', 'address': 'Apple st 62'}\n",
      "{'_id': ObjectId('67691327fbffd7aec644f496'), 'name': 'Hunnah', 'address': 'Mountain 21'}\n",
      "{'_id': ObjectId('67691327fbffd7aec644f497'), 'name': 'Micheal', 'address': 'Valley 62'}\n",
      "{'_id': ObjectId('67691327fbffd7aec644f498'), 'name': 'Sandy', 'address': 'Green Grass 1'}\n",
      "{'_id': ObjectId('67691327fbffd7aec644f499'), 'name': 'Betty', 'address': 'Ocean blvd 62'}\n",
      "{'_id': ObjectId('67691327fbffd7aec644f49a'), 'name': 'Richard', 'address': 'Sky st 331'}\n",
      "{'_id': ObjectId('67691327fbffd7aec644f49b'), 'name': 'Susan', 'address': 'One Way 98'}\n",
      "{'_id': ObjectId('67691327fbffd7aec644f49c'), 'name': 'Ben', 'address': 'Sideway 879'}\n",
      "{'_id': ObjectId('676914b6fbffd7aec644f49d'), 'name': 'notebook', 'qty': 50, 'rating': [{'score': 8}, {'score': 9}], 'size': {'height': 11, 'width': 8.5, 'unit': 'in'}, 'status': 'A', 'tags': ['college-ruled', 'perforated']}\n",
      "{'_id': ObjectId('676952b5a62c18413234922a'), 'name': 'zoya', 'class': 'data science', 'city': 'meerut'}\n",
      "{'_id': ObjectId('676952caa62c18413234922b'), 'companyName': 'pwSkill', 'product': 'Affordable AI', 'courseOffered': 'Machine Learning with Deployment', 'comapanyName': 'pwSkill'}\n",
      "{'_id': ObjectId('676952caa62c18413234922c'), 'companyName': 'pwSkill', 'product': 'Affordable AI', 'courseOffered': 'Deep Learning for NLP and Computer vision', 'comapanyName': 'pwSkill'}\n",
      "{'_id': ObjectId('676952caa62c18413234922d'), 'companyName': 'pwSkill', 'product': 'Master Program', 'courseOffered': 'Data Science Masters Program', 'comapanyName': 'pwSkill'}\n",
      "{'_id': '3', 'companyName': 'pwSkill', 'Faculty': 'XYZ', 'comapanyName': 'pwSkill'}\n",
      "{'_id': '4', 'companyName': 'pwSkill', 'Faculty': 'ABC', 'comapanyName': 'pwSkill'}\n",
      "{'_id': '5', 'companyName': 'pwSkill', 'Faculty': 'PQR', 'comapanyName': 'pwSkill'}\n"
     ]
    }
   ],
   "source": [
    "for i in coll_create.find():\n",
    "    print(i)"
   ]
  },
  {
   "cell_type": "code",
   "execution_count": 74,
   "id": "2e707d99-cc95-40f4-b5a1-3a254d038a13",
   "metadata": {},
   "outputs": [
    {
     "data": {
      "text/plain": [
       "UpdateResult({'n': 6, 'nModified': 0, 'ok': 1.0, 'updatedExisting': True}, acknowledged=True)"
      ]
     },
     "execution_count": 74,
     "metadata": {},
     "output_type": "execute_result"
    }
   ],
   "source": [
    "coll_create.update_many(\n",
    "    {'companyName': 'pwSkill'},\n",
    "    {'$unset' : {'comapanyName' : ''}}\n",
    ")"
   ]
  },
  {
   "cell_type": "code",
   "execution_count": 75,
   "id": "22631178-305c-42c6-b524-f94667603ab0",
   "metadata": {},
   "outputs": [
    {
     "name": "stdout",
     "output_type": "stream",
     "text": [
      "{'_id': ObjectId('67690f57fbffd7aec644f493'), 'mail_id': 'zoya@gmail.com', 'phone_no': 1234567890}\n",
      "{'_id': ObjectId('6769103dfbffd7aec644f494'), 'list_course': ['web dev', 'data science', 'dsa'], 'mentor': ['hitesh', 'sudhanshu', 'saurabh']}\n",
      "{'_id': ObjectId('67691327fbffd7aec644f495'), 'name': 'Amy', 'address': 'Apple st 62'}\n",
      "{'_id': ObjectId('67691327fbffd7aec644f496'), 'name': 'Hunnah', 'address': 'Mountain 21'}\n",
      "{'_id': ObjectId('67691327fbffd7aec644f497'), 'name': 'Micheal', 'address': 'Valley 62'}\n",
      "{'_id': ObjectId('67691327fbffd7aec644f498'), 'name': 'Sandy', 'address': 'Green Grass 1'}\n",
      "{'_id': ObjectId('67691327fbffd7aec644f499'), 'name': 'Betty', 'address': 'Ocean blvd 62'}\n",
      "{'_id': ObjectId('67691327fbffd7aec644f49a'), 'name': 'Richard', 'address': 'Sky st 331'}\n",
      "{'_id': ObjectId('67691327fbffd7aec644f49b'), 'name': 'Susan', 'address': 'One Way 98'}\n",
      "{'_id': ObjectId('67691327fbffd7aec644f49c'), 'name': 'Ben', 'address': 'Sideway 879'}\n",
      "{'_id': ObjectId('676914b6fbffd7aec644f49d'), 'name': 'notebook', 'qty': 50, 'rating': [{'score': 8}, {'score': 9}], 'size': {'height': 11, 'width': 8.5, 'unit': 'in'}, 'status': 'A', 'tags': ['college-ruled', 'perforated']}\n",
      "{'_id': ObjectId('676952b5a62c18413234922a'), 'name': 'zoya', 'class': 'data science', 'city': 'meerut'}\n",
      "{'_id': '3', 'companyName': 'pwSkill', 'Faculty': 'XYZ'}\n",
      "{'_id': '4', 'companyName': 'pwSkill', 'Faculty': 'ABC'}\n",
      "{'_id': '5', 'companyName': 'pwSkill', 'Faculty': 'PQR'}\n",
      "{'_id': ObjectId('67695b1aa62c18413234922e'), 'companyName': 'pwSkill', 'product': 'Affordable AI', 'courseOffered': 'Machine Learning with Deployment'}\n",
      "{'_id': ObjectId('67695b1aa62c18413234922f'), 'companyName': 'pwSkill', 'product': 'Affordable AI', 'courseOffered': 'Deep Learning for NLP and Computer vision'}\n",
      "{'_id': ObjectId('67695b1aa62c184132349230'), 'companyName': 'pwSkill', 'product': 'Master Program', 'courseOffered': 'Data Science Masters Program'}\n"
     ]
    }
   ],
   "source": [
    "for i in coll_create.find():\n",
    "    print(i)"
   ]
  },
  {
   "cell_type": "code",
   "execution_count": 76,
   "id": "4114a749-6292-4d14-91a8-e74f9bbf3c76",
   "metadata": {},
   "outputs": [],
   "source": [
    "coll_create.drop()"
   ]
  },
  {
   "cell_type": "code",
   "execution_count": 77,
   "id": "c674e447-922b-4a79-b36c-8e75cab05407",
   "metadata": {},
   "outputs": [],
   "source": [
    "for i in coll_create.find():\n",
    "    print(i)"
   ]
  },
  {
   "cell_type": "code",
   "execution_count": null,
   "id": "9815d59e-379a-4499-894d-167f5661595c",
   "metadata": {},
   "outputs": [],
   "source": []
  }
 ],
 "metadata": {
  "kernelspec": {
   "display_name": "Python 3 (ipykernel)",
   "language": "python",
   "name": "python3"
  },
  "language_info": {
   "codemirror_mode": {
    "name": "ipython",
    "version": 3
   },
   "file_extension": ".py",
   "mimetype": "text/x-python",
   "name": "python",
   "nbconvert_exporter": "python",
   "pygments_lexer": "ipython3",
   "version": "3.11.5"
  }
 },
 "nbformat": 4,
 "nbformat_minor": 5
}
